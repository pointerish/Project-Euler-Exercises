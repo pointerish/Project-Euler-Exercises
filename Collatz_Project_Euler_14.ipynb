{
  "nbformat": 4,
  "nbformat_minor": 0,
  "metadata": {
    "colab": {
      "name": "Collatz - Project Euler #14",
      "version": "0.3.2",
      "provenance": [],
      "collapsed_sections": [],
      "include_colab_link": true
    },
    "kernelspec": {
      "name": "python3",
      "display_name": "Python 3"
    },
    "accelerator": "GPU"
  },
  "cells": [
    {
      "cell_type": "markdown",
      "metadata": {
        "id": "view-in-github",
        "colab_type": "text"
      },
      "source": [
        "<a href=\"https://colab.research.google.com/github/pointerish/ProjectEuler-Ex/blob/master/Collatz_Project_Euler_14.ipynb\" target=\"_parent\"><img src=\"https://colab.research.google.com/assets/colab-badge.svg\" alt=\"Open In Colab\"/></a>"
      ]
    },
    {
      "cell_type": "markdown",
      "metadata": {
        "id": "auPn1zvz8ofb",
        "colab_type": "text"
      },
      "source": [
        "##[Project Euler #14](https://projecteuler.net/problem=14)\n",
        "\n",
        "The following iterative sequence is defined for the set of positive integers:\n",
        "\n",
        "- n → n/2 (n is even)\n",
        "- n → 3n + 1  (n is odd)\n",
        "\n",
        "Using the rule above and starting with 13, we generate the following sequence:\n",
        "\n",
        "13 → 40 → 20 → 10 → 5 → 16 → 8 → 4 → 2 → 1 <br/><br/>\n",
        "It can be seen that this sequence (starting at 13 and finishing at 1) contains 10 terms. Although it has not been proved yet ([Collatz Problem](https://en.wikipedia.org/wiki/Collatz_conjecture)), it is thought that all starting numbers finish at 1.\n",
        "\n",
        "<b>Which starting number, under one million, produces the longest chain?</b>\n",
        "\n",
        "NOTE: Once the chain starts the terms are allowed to go above one million."
      ]
    },
    {
      "cell_type": "code",
      "metadata": {
        "id": "ODfVj1x48cFP",
        "colab_type": "code",
        "outputId": "3d4bb39f-7e1c-49bf-bb64-96604f07f650",
        "colab": {
          "base_uri": "https://localhost:8080/",
          "height": 34
        }
      },
      "source": [
        "\n",
        "def collatz_seq(n, count=1):\n",
        "    while n > 1:\n",
        "        count += 1\n",
        "        if n % 2 == 0:\n",
        "            n = n/2\n",
        "        else:\n",
        "            n = 3*n + 1\n",
        "    return count\n",
        "\n",
        "#This implementation is quite simple, but good enough for the purpose.\n",
        "#Now comes the heavy stuff: checking a whole lot of numbers below 1 million\n",
        "#to see which one generates the longest sequence.\n",
        "    \n",
        "items = [0,0]\n",
        "\n",
        "for i in range(1000000):\n",
        "    c = collatz_seq(i)\n",
        "    if c > items[0]:\n",
        "        items[0] = c\n",
        "        items[1] = i\n",
        "\n",
        "print(f'Found {items[1]} with length {items[0]}.')"
      ],
      "execution_count": 4,
      "outputs": [
        {
          "output_type": "stream",
          "text": [
            "Found 837799 with length 525.\n"
          ],
          "name": "stdout"
        }
      ]
    }
  ]
}