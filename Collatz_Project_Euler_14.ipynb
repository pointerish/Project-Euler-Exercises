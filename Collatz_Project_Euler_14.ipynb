{
  "nbformat": 4,
  "nbformat_minor": 0,
  "metadata": {
    "colab": {
      "name": "Collatz - Project Euler #14",
      "version": "0.3.2",
      "provenance": [],
      "include_colab_link": true
    },
    "kernelspec": {
      "name": "python3",
      "display_name": "Python 3"
    }
  },
  "cells": [
    {
      "cell_type": "markdown",
      "metadata": {
        "id": "view-in-github",
        "colab_type": "text"
      },
      "source": [
        "<a href=\"https://colab.research.google.com/github/pointerish/ProjectEuler-Ex/blob/master/Collatz_Project_Euler_14.ipynb\" target=\"_parent\"><img src=\"https://colab.research.google.com/assets/colab-badge.svg\" alt=\"Open In Colab\"/></a>"
      ]
    },
    {
      "cell_type": "markdown",
      "metadata": {
        "id": "auPn1zvz8ofb",
        "colab_type": "text"
      },
      "source": [
        "[Project Euler #14](https://projecteuler.net/problem=14)\n",
        "\n",
        "The following iterative sequence is defined for the set of positive integers:\n",
        "\n",
        "<i>n → n/2 (n is even)</i><br/>\n",
        "<i>n → 3n + 1  (n is odd)</i>\n",
        "\n",
        "Using the rule above and starting with 13, we generate the following sequence:\n",
        "\n",
        "13 → 40 → 20 → 10 → 5 → 16 → 8 → 4 → 2 → 1 <br/><br/>\n",
        "It can be seen that this sequence (starting at 13 and finishing at 1) contains 10 terms. Although it has not been proved yet ([Collatz Problem](https://en.wikipedia.org/wiki/Collatz_conjecture)), it is thought that all starting numbers finish at 1.\n",
        "\n",
        "<b>Which starting number, under one million, produces the longest chain?</b>\n",
        "\n",
        "NOTE: Once the chain starts the terms are allowed to go above one million."
      ]
    },
    {
      "cell_type": "code",
      "metadata": {
        "id": "ODfVj1x48cFP",
        "colab_type": "code",
        "colab": {}
      },
      "source": [
        ""
      ],
      "execution_count": 0,
      "outputs": []
    }
  ]
}