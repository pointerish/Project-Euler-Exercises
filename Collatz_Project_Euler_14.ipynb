{
  "nbformat": 4,
  "nbformat_minor": 0,
  "metadata": {
    "colab": {
      "name": "Collatz - Project Euler #14",
      "version": "0.3.2",
      "provenance": [],
      "collapsed_sections": [],
      "include_colab_link": true
    },
    "kernelspec": {
      "name": "python3",
      "display_name": "Python 3"
    },
    "accelerator": "GPU"
  },
  "cells": [
    {
      "cell_type": "markdown",
      "metadata": {
        "id": "view-in-github",
        "colab_type": "text"
      },
      "source": [
        "<a href=\"https://colab.research.google.com/github/pointerish/ProjectEuler-Ex/blob/master/Collatz_Project_Euler_14.ipynb\" target=\"_parent\"><img src=\"https://colab.research.google.com/assets/colab-badge.svg\" alt=\"Open In Colab\"/></a>"
      ]
    },
    {
      "cell_type": "markdown",
      "metadata": {
        "id": "auPn1zvz8ofb",
        "colab_type": "text"
      },
      "source": [
        "[Project Euler #14](https://projecteuler.net/problem=14)\n",
        "\n",
        "The following iterative sequence is defined for the set of positive integers:\n",
        "\n",
        "<i>n → n/2 (n is even)</i><br/>\n",
        "<i>n → 3n + 1  (n is odd)</i>\n",
        "\n",
        "Using the rule above and starting with 13, we generate the following sequence:\n",
        "\n",
        "13 → 40 → 20 → 10 → 5 → 16 → 8 → 4 → 2 → 1 <br/><br/>\n",
        "It can be seen that this sequence (starting at 13 and finishing at 1) contains 10 terms. Although it has not been proved yet ([Collatz Problem](https://en.wikipedia.org/wiki/Collatz_conjecture)), it is thought that all starting numbers finish at 1.\n",
        "\n",
        "<b>Which starting number, under one million, produces the longest chain?</b>\n",
        "\n",
        "NOTE: Once the chain starts the terms are allowed to go above one million."
      ]
    },
    {
      "cell_type": "code",
      "metadata": {
        "id": "ODfVj1x48cFP",
        "colab_type": "code",
        "colab": {}
      },
      "source": [
        "def collatz_seq(start_int):\n",
        "    results = []\n",
        "    while start_int != 1:\n",
        "        if start_int % 2 > 0:\n",
        "            start_int = ((3 * start_int) + 1)\n",
        "            results.append(int(start_int))\n",
        "        else:\n",
        "            start_int = start_int / 2\n",
        "            results.append(int(start_int))\n",
        "    return results\n",
        "\n",
        "#This implementation is quite simple, but good enough for the purpose.\n",
        "#Now comes the heavy stuff: checking a whole lot of numbers below 1 million\n",
        "#to see which one generates the longest sequence.\n",
        "\n",
        "counts = dict()\n",
        "\n",
        "for index, num in enumerate(reversed(range(1,1000000))):\n",
        "    items = collatz_seq(num)\n",
        "    counts.update({index:items})\n",
        "    \n",
        "print(counts)\n",
        "    "
      ],
      "execution_count": 0,
      "outputs": []
    }
  ]
}