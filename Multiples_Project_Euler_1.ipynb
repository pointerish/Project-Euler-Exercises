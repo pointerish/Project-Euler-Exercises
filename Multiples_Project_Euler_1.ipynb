{
  "nbformat": 4,
  "nbformat_minor": 0,
  "metadata": {
    "colab": {
      "name": "Multiples_Project_Euler_1.ipynb",
      "version": "0.3.2",
      "provenance": [],
      "include_colab_link": true
    },
    "kernelspec": {
      "name": "python3",
      "display_name": "Python 3"
    }
  },
  "cells": [
    {
      "cell_type": "markdown",
      "metadata": {
        "id": "view-in-github",
        "colab_type": "text"
      },
      "source": [
        "<a href=\"https://colab.research.google.com/github/pointerish/ProjectEuler-Ex/blob/master/Multiples_Project_Euler_1.ipynb\" target=\"_parent\"><img src=\"https://colab.research.google.com/assets/colab-badge.svg\" alt=\"Open In Colab\"/></a>"
      ]
    },
    {
      "cell_type": "markdown",
      "metadata": {
        "id": "klvsR12jDWB1",
        "colab_type": "text"
      },
      "source": [
        "##[Project Euler #1](https://projecteuler.net/problem=1)\n",
        "\n",
        "If we list all the natural numbers below 10 that are multiples of 3 or 5, we get 3, 5, 6 and 9. The sum of these multiples is 23.\n",
        "\n",
        "**Find the sum of all the multiples of 3 or 5 below 1000.**"
      ]
    },
    {
      "cell_type": "code",
      "metadata": {
        "id": "t642RMMiCAXy",
        "colab_type": "code",
        "colab": {
          "base_uri": "https://localhost:8080/",
          "height": 34
        },
        "outputId": "88d25829-a8e2-4ec0-c535-8dc9d1359a70"
      },
      "source": [
        "def sum_mult_below(threshold, *args):\n",
        "    multiples = []\n",
        "    for num in range(threshold):\n",
        "        if num % args[0] == 0 or num % args[1] == 0:\n",
        "            multiples.append(num)\n",
        "        else:\n",
        "            continue\n",
        "    return sum(multiples)\n",
        "\n",
        "#What if the user of the function sets more than 2 values for *args?\n",
        "\n",
        "print(sum_mult_below(1000, 3, 5, 7))"
      ],
      "execution_count": 8,
      "outputs": [
        {
          "output_type": "stream",
          "text": [
            "233168\n"
          ],
          "name": "stdout"
        }
      ]
    }
  ]
}