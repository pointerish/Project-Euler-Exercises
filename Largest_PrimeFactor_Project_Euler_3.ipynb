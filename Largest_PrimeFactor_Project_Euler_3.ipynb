{
  "nbformat": 4,
  "nbformat_minor": 0,
  "metadata": {
    "colab": {
      "name": "Largest_PrimeFactor_Project_Euler_3",
      "provenance": [],
      "collapsed_sections": [],
      "authorship_tag": "ABX9TyNYZMWb42SdpoeD9ZLQ+tWW",
      "include_colab_link": true
    },
    "kernelspec": {
      "name": "python3",
      "display_name": "Python 3"
    }
  },
  "cells": [
    {
      "cell_type": "markdown",
      "metadata": {
        "id": "view-in-github",
        "colab_type": "text"
      },
      "source": [
        "<a href=\"https://colab.research.google.com/github/pointerish/Project-Euler-Exercises/blob/master/Largest_PrimeFactor_Project_Euler_3.ipynb\" target=\"_parent\"><img src=\"https://colab.research.google.com/assets/colab-badge.svg\" alt=\"Open In Colab\"/></a>"
      ]
    },
    {
      "cell_type": "markdown",
      "metadata": {
        "id": "a8HLEc1rk2ZS",
        "colab_type": "text"
      },
      "source": [
        "# [Project Euler #3](https://projecteuler.net/problem=3)\n",
        "\n",
        "The prime factors of 13195 are 5, 7, 13 and 29.\n",
        "\n",
        "What is the largest prime factor of the number 600851475143 ?\n"
      ]
    },
    {
      "cell_type": "code",
      "metadata": {
        "id": "Y0uQHamElNqZ",
        "colab_type": "code",
        "colab": {}
      },
      "source": [
        "def s_erathosthenes(n):\n",
        "    pass"
      ],
      "execution_count": 0,
      "outputs": []
    }
  ]
}